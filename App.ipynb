{
 "cells": [
  {
   "cell_type": "code",
   "execution_count": 1,
   "id": "ff9921e8-3662-4790-a7a0-d7ee20215366",
   "metadata": {
    "tags": []
   },
   "outputs": [],
   "source": [
    "\"\"\"The `app` module launch the 'BiblioMeter' application through `app_main` class\n",
    "of `Page_Classes` module of `BiblioMeter_GUI` package.\n",
    "\"\"\"\n",
    "\n",
    "# Local imports\n",
    "from bmgui.main_page import AppMain\n",
    "\n",
    "app = AppMain()\n",
    "app.mainloop()"
   ]
  },
  {
   "cell_type": "code",
   "execution_count": null,
   "id": "ed07e07d-3522-4b76-8756-2716f9eba5bf",
   "metadata": {},
   "outputs": [],
   "source": []
  }
 ],
 "metadata": {
  "kernelspec": {
   "display_name": "BiblioMeter",
   "language": "python",
   "name": "bibliometer"
  },
  "language_info": {
   "codemirror_mode": {
    "name": "ipython",
    "version": 3
   },
   "file_extension": ".py",
   "mimetype": "text/x-python",
   "name": "python",
   "nbconvert_exporter": "python",
   "pygments_lexer": "ipython3",
   "version": "3.9.7"
  }
 },
 "nbformat": 4,
 "nbformat_minor": 5
}
