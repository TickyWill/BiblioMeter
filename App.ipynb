{
 "cells": [
  {
   "cell_type": "code",
   "execution_count": null,
   "id": "ff9921e8-3662-4790-a7a0-d7ee20215366",
   "metadata": {
    "tags": []
   },
   "outputs": [],
   "source": [
    "\"\"\"The `app` module launch the 'BiblioMeter' application through `AppMain` class\n",
    "of `main_page` module of `bmgui` package.\n",
    "\"\"\"\n",
    "\n",
    "# Local imports\n",
    "from bmgui.main_page import AppMain\n",
    "\n",
    "def run_bibliometer():\n",
    "    \"\"\"\n",
    "    Main function used for starting the BiblioMeter application\n",
    "    \"\"\"\n",
    "    try:\n",
    "        app = AppMain()\n",
    "        app.mainloop()\n",
    "    except Exception as err:\n",
    "        print(err)\n",
    "\n",
    "if __name__ == \"__main__\":\n",
    "    run_bibliometer()\n"
   ]
  },
  {
   "cell_type": "code",
   "execution_count": null,
   "id": "c51d322d-d6a2-41bf-a7aa-6b543450012e",
   "metadata": {},
   "outputs": [],
   "source": []
  }
 ],
 "metadata": {
  "kernelspec": {
   "display_name": "BiblioMeter",
   "language": "python",
   "name": "bibliometer"
  },
  "language_info": {
   "codemirror_mode": {
    "name": "ipython",
    "version": 3
   },
   "file_extension": ".py",
   "mimetype": "text/x-python",
   "name": "python",
   "nbconvert_exporter": "python",
   "pygments_lexer": "ipython3",
   "version": "3.9.7"
  }
 },
 "nbformat": 4,
 "nbformat_minor": 5
}
