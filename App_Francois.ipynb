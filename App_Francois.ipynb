{
 "cells": [
  {
   "cell_type": "code",
   "execution_count": 1,
   "id": "ff9921e8-3662-4790-a7a0-d7ee20215366",
   "metadata": {
    "tags": []
   },
   "outputs": [
    {
     "name": "stderr",
     "output_type": "stream",
     "text": [
      "[nltk_data] Downloading package averaged_perceptron_tagger to\n",
      "[nltk_data]     C:\\Users\\LD259969\\AppData\\Roaming\\nltk_data...\n",
      "[nltk_data]   Package averaged_perceptron_tagger is already up-to-\n",
      "[nltk_data]       date!\n",
      "[nltk_data] Downloading package punkt to\n",
      "[nltk_data]     C:\\Users\\LD259969\\AppData\\Roaming\\nltk_data...\n",
      "[nltk_data]   Package punkt is already up-to-date!\n",
      "[nltk_data] Downloading package wordnet to\n",
      "[nltk_data]     C:\\Users\\LD259969\\AppData\\Roaming\\nltk_data...\n",
      "[nltk_data]   Package wordnet is already up-to-date!\n"
     ]
    },
    {
     "name": "stdout",
     "output_type": "stream",
     "text": [
      "Number of detected displays: 2\n",
      "Screen width in pixels : 1920\n",
      "Screen height in pixels : 1080\n",
      "Width scale factor in pixels : 1.0\n",
      "Height scale factor in pixels : 1.0\n",
      "Width scale factor in mm : 1.019271948608137\n",
      "Height scale factor in mm : 1.0\n",
      "Width in pixels of root window is 901 and height in pixels is 699\n"
     ]
    }
   ],
   "source": [
    "from BiblioMeter_GUI.Page_Classes import App_Test\n",
    "\n",
    "app = App_Test()\n",
    "app.mainloop()"
   ]
  }
 ],
 "metadata": {
  "kernelspec": {
   "display_name": "BiblioMeter_kernel",
   "language": "python",
   "name": "bibliometer_kernel"
  },
  "language_info": {
   "codemirror_mode": {
    "name": "ipython",
    "version": 3
   },
   "file_extension": ".py",
   "mimetype": "text/x-python",
   "name": "python",
   "nbconvert_exporter": "python",
   "pygments_lexer": "ipython3",
   "version": "3.9.7"
  }
 },
 "nbformat": 4,
 "nbformat_minor": 5
}
